{
 "cells": [
  {
   "cell_type": "markdown",
   "metadata": {},
   "source": [
    "## Este arquivo apenas objetiva concentrar os links para os notebooks a respeito da [competição esciolhida][elo-group-comp] pelo grupo responsável pelo **xgboost**.\n",
    "\n",
    "1. [Notebook principal][main]\n",
    "2. [Notebook extra (combinando LGBMs)][lgbm-cascade]\n",
    "\n",
    "[elo-group-comp]: https://www.kaggle.com/c/elo-merchant-category-recommendation\n",
    "[main]: elo-group/main.ipynb\n",
    "[lgbm-cascade]: elo-group/cascade.ipynb"
   ]
  },
  {
   "cell_type": "markdown",
   "metadata": {},
   "source": [
    "## Links para os notebooks no Kaggle\n",
    "1. [Notebook principal][main]\n",
    "2. [Notebook extra (combinando LGBMs)][lgbm-cascade]\n",
    "\n",
    "[main]: https://www.kaggle.com/maffei2443/first-elo-submission?scriptVersionId=37344026\n",
    "[lgbm-cascade]: https://www.kaggle.com/objectobject/submiss-o-grupo-boosting?scriptVersionId=37200975"
   ]
  }
 ],
 "metadata": {
  "kernelspec": {
   "display_name": "Python 3",
   "language": "python",
   "name": "python3"
  },
  "language_info": {
   "codemirror_mode": {
    "name": "ipython",
    "version": 3
   },
   "file_extension": ".py",
   "mimetype": "text/x-python",
   "name": "python",
   "nbconvert_exporter": "python",
   "pygments_lexer": "ipython3",
   "version": "3.8.1"
  }
 },
 "nbformat": 4,
 "nbformat_minor": 4
}
